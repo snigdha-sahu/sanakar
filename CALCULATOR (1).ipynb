{
 "cells": [
  {
   "cell_type": "markdown",
   "id": "65881a5f",
   "metadata": {},
   "source": [
    "# SIMPLE CALCULATOR "
   ]
  },
  {
   "cell_type": "code",
   "execution_count": 3,
   "id": "0c425e9b",
   "metadata": {},
   "outputs": [
    {
     "name": "stdout",
     "output_type": "stream",
     "text": [
      "simple calculator\n",
      " \n",
      "+ add\n",
      "- subtraction\n",
      "* multiplication\n",
      "/ divison\n",
      "\n",
      "enter the first number: 67\n",
      "enter the second number: 77\n",
      "Enter the oper..8\n",
      "exit\n"
     ]
    }
   ],
   "source": [
    "print (\"simple calculator\")\n",
    "print(\"\"\" \n",
    "+ add\n",
    "- subtraction\n",
    "* multiplication\n",
    "/ divison\n",
    "\"\"\")\n",
    "num1 =int(input(\"enter the first number: \"))\n",
    "num2 =int(input(\"enter the second number: \"))\n",
    "oper = input(\"Enter the oper..\")\n",
    "if oper==\"+\":\n",
    "    print (num1+num2)\n",
    "elif oper==\"-\":\n",
    "    print (num1-num2)\n",
    "elif oper==\"*\":\n",
    "    print (num1*num2)\n",
    "elif oper==\"/\":\n",
    "    print (num1/num2)\n",
    "else:\n",
    "        print (\"exit\")\n",
    "    "
   ]
  },
  {
   "cell_type": "code",
   "execution_count": null,
   "id": "fd3ed6fd",
   "metadata": {},
   "outputs": [],
   "source": []
  },
  {
   "cell_type": "code",
   "execution_count": null,
   "id": "9cf7b8e6",
   "metadata": {},
   "outputs": [],
   "source": []
  }
 ],
 "metadata": {
  "kernelspec": {
   "display_name": "Python 3 (ipykernel)",
   "language": "python",
   "name": "python3"
  },
  "language_info": {
   "codemirror_mode": {
    "name": "ipython",
    "version": 3
   },
   "file_extension": ".py",
   "mimetype": "text/x-python",
   "name": "python",
   "nbconvert_exporter": "python",
   "pygments_lexer": "ipython3",
   "version": "3.10.9"
  }
 },
 "nbformat": 4,
 "nbformat_minor": 5
}
