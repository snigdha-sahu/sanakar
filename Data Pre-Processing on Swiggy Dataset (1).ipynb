{
 "cells": [
  {
   "cell_type": "markdown",
   "metadata": {},
   "source": [
    "# Swiggy Dataset, Data Pre- Processing and Cleaning"
   ]
  },
  {
   "cell_type": "markdown",
   "metadata": {},
   "source": [
    "## Importing Libraries"
   ]
  },
  {
   "cell_type": "code",
   "execution_count": 2,
   "metadata": {},
   "outputs": [],
   "source": [
    "# Importing Numpy\n",
    "import numpy as np\n",
    "# Importing Matplotlib\n",
    "import matplotlib.pyplot as plt\n",
    "# plt is athe alias name for pyplot\n",
    "import pandas as pd\n",
    "# pd is the alias for pandas"
   ]
  },
  {
   "cell_type": "markdown",
   "metadata": {},
   "source": [
    "## Loading Data into Dataframe"
   ]
  },
  {
   "cell_type": "code",
   "execution_count": 3,
   "metadata": {},
   "outputs": [],
   "source": [
    "# Loading the Dataset\n",
    "swiggy_df = pd.read_csv(\"Swiggy_Dataset.csv\")"
   ]
  },
  {
   "cell_type": "markdown",
   "metadata": {},
   "source": [
    "## Exploring data and Performing Data Cleaning and Pre-Processing "
   ]
  },
  {
   "cell_type": "code",
   "execution_count": 4,
   "metadata": {},
   "outputs": [
    {
     "data": {
      "text/html": [
       "<div>\n",
       "<style scoped>\n",
       "    .dataframe tbody tr th:only-of-type {\n",
       "        vertical-align: middle;\n",
       "    }\n",
       "\n",
       "    .dataframe tbody tr th {\n",
       "        vertical-align: top;\n",
       "    }\n",
       "\n",
       "    .dataframe thead th {\n",
       "        text-align: right;\n",
       "    }\n",
       "</style>\n",
       "<table border=\"1\" class=\"dataframe\">\n",
       "  <thead>\n",
       "    <tr style=\"text-align: right;\">\n",
       "      <th></th>\n",
       "      <th>Restaurant Name</th>\n",
       "      <th>City</th>\n",
       "      <th>Locality</th>\n",
       "      <th>Cuisines</th>\n",
       "      <th>Average Cost for two</th>\n",
       "      <th>Has Table booking</th>\n",
       "      <th>Has Online delivery</th>\n",
       "      <th>Rating Stars out of 5</th>\n",
       "      <th>Rating in text</th>\n",
       "      <th>Price range</th>\n",
       "      <th>Votes</th>\n",
       "    </tr>\n",
       "  </thead>\n",
       "  <tbody>\n",
       "    <tr>\n",
       "      <th>0</th>\n",
       "      <td>Sultans of Spice</td>\n",
       "      <td>Bangalore</td>\n",
       "      <td>BluPetal Hotel, Koramangala</td>\n",
       "      <td>North Indian</td>\n",
       "      <td>1300</td>\n",
       "      <td>Yes</td>\n",
       "      <td>Yes</td>\n",
       "      <td>4.1</td>\n",
       "      <td>Very Good</td>\n",
       "      <td>3</td>\n",
       "      <td>314</td>\n",
       "    </tr>\n",
       "    <tr>\n",
       "      <th>1</th>\n",
       "      <td>The Fatty Bao - Asian Gastro Bar</td>\n",
       "      <td>Bangalore</td>\n",
       "      <td>Indiranagar</td>\n",
       "      <td>Asian</td>\n",
       "      <td>2400</td>\n",
       "      <td>Yes</td>\n",
       "      <td>Yes</td>\n",
       "      <td>4.7</td>\n",
       "      <td>Excellent</td>\n",
       "      <td>4</td>\n",
       "      <td>591</td>\n",
       "    </tr>\n",
       "    <tr>\n",
       "      <th>2</th>\n",
       "      <td>Toit</td>\n",
       "      <td>Bangalore</td>\n",
       "      <td>Indiranagar</td>\n",
       "      <td>Italian</td>\n",
       "      <td>2000</td>\n",
       "      <td>No</td>\n",
       "      <td>No</td>\n",
       "      <td>4.8</td>\n",
       "      <td>Excellent</td>\n",
       "      <td>4</td>\n",
       "      <td>270</td>\n",
       "    </tr>\n",
       "    <tr>\n",
       "      <th>3</th>\n",
       "      <td>Three Dots &amp; A Dash</td>\n",
       "      <td>Bangalore</td>\n",
       "      <td>Indiranagar</td>\n",
       "      <td>European</td>\n",
       "      <td>1300</td>\n",
       "      <td>Yes</td>\n",
       "      <td>No</td>\n",
       "      <td>3.9</td>\n",
       "      <td>Good</td>\n",
       "      <td>3</td>\n",
       "      <td>365</td>\n",
       "    </tr>\n",
       "    <tr>\n",
       "      <th>4</th>\n",
       "      <td>Bombay Brasserie</td>\n",
       "      <td>Bangalore</td>\n",
       "      <td>Indiranagar</td>\n",
       "      <td>Modern Indian</td>\n",
       "      <td>1500</td>\n",
       "      <td>No</td>\n",
       "      <td>Yes</td>\n",
       "      <td>4.2</td>\n",
       "      <td>Very Good</td>\n",
       "      <td>3</td>\n",
       "      <td>229</td>\n",
       "    </tr>\n",
       "  </tbody>\n",
       "</table>\n",
       "</div>"
      ],
      "text/plain": [
       "                    Restaurant Name       City                     Locality  \\\n",
       "0                  Sultans of Spice  Bangalore  BluPetal Hotel, Koramangala   \n",
       "1  The Fatty Bao - Asian Gastro Bar  Bangalore                  Indiranagar   \n",
       "2                              Toit  Bangalore                  Indiranagar   \n",
       "3               Three Dots & A Dash  Bangalore                  Indiranagar   \n",
       "4                  Bombay Brasserie  Bangalore                  Indiranagar   \n",
       "\n",
       "        Cuisines  Average Cost for two Has Table booking Has Online delivery  \\\n",
       "0   North Indian                  1300               Yes                 Yes   \n",
       "1          Asian                  2400               Yes                 Yes   \n",
       "2        Italian                  2000                No                  No   \n",
       "3       European                  1300               Yes                  No   \n",
       "4  Modern Indian                  1500                No                 Yes   \n",
       "\n",
       "    Rating Stars out of 5 Rating in text  Price range  Votes  \n",
       "0                     4.1      Very Good            3    314  \n",
       "1                     4.7      Excellent            4    591  \n",
       "2                     4.8      Excellent            4    270  \n",
       "3                     3.9           Good            3    365  \n",
       "4                     4.2      Very Good            3    229  "
      ]
     },
     "execution_count": 4,
     "metadata": {},
     "output_type": "execute_result"
    }
   ],
   "source": [
    "# Showing the first five rows\n",
    "swiggy_df.head()"
   ]
  },
  {
   "cell_type": "code",
   "execution_count": 5,
   "metadata": {},
   "outputs": [
    {
     "data": {
      "text/plain": [
       "array(['Bangalore', 'Chandigarh', 'Chennai', 'Goa', 'Guwahati',\n",
       "       'Hyderabad', 'Jaipur', 'Kolkata', 'Lucknow', 'Mumbai', 'Patna',\n",
       "       'Pune', 'Surat'], dtype=object)"
      ]
     },
     "execution_count": 5,
     "metadata": {},
     "output_type": "execute_result"
    }
   ],
   "source": [
    "# Showing Unique values in 'City' column\n",
    "swiggy_df['City'].unique()"
   ]
  },
  {
   "cell_type": "code",
   "execution_count": 7,
   "metadata": {},
   "outputs": [
    {
     "data": {
      "text/plain": [
       "array(['BluPetal Hotel, Koramangala', 'Indiranagar', 'JP Nagar',\n",
       "       'Koramangala 5th Block', 'Koramangala 6th Block',\n",
       "       'Koramangala 7th Block', 'Marathahalli', 'New BEL Road',\n",
       "       'Residency Road', 'Sarjapur Road', 'UB City',\n",
       "       'Chandigarh Industrial Area',\n",
       "       'Elante Mall, Chandigarh Industrial Area', 'Sector 26',\n",
       "       'Sector 28', 'Sector 35', 'Sector 7', 'Sector 8', 'Adyar',\n",
       "       'Anna Nagar East', 'Ashok Nagar',\n",
       "       'Express Avenue Mall,  Royapettah', 'Gopalapuram', 'Kilpauk',\n",
       "       'Kotturpuram', 'Mylapore', 'Nungambakkam', 'Perungudi', 'RA Puram',\n",
       "       'Ramapuram', 'Santhome', 'T. Nagar', 'Velachery', 'Anjuna',\n",
       "       'Anjuna Beach, Anjuna', 'Arambol', 'Baga', 'Betalbatim',\n",
       "       'Calangute', 'Calangute Beach, Calangute', 'Candolim',\n",
       "       'Cavelossim', 'Nerul', 'Panaji', 'Vagator',\n",
       "       'Anil Plaza, Christian Basti', 'Chandmari', 'Christian Basti',\n",
       "       'Dispur', 'Six Mile', 'Ulubari', 'Uzan Bazaar', 'Zoo Tiniali',\n",
       "       '12th Square Building, Banjara Hills', 'Banjara Hills',\n",
       "       'Gachibowli', 'Hitech City', 'Holiday Inn Express & Suites',\n",
       "       'Jubilee Hills', 'Kondapur', 'Madhapur', \"Ohri' Hitech City\",\n",
       "       'C Scheme', 'Chokhi Dhani Village Resort, Tonk Road',\n",
       "       'Civil Lines', 'Devraj Niwas, Bani Park',\n",
       "       'Holiday Inn Jaipur City Centre, Bais Godam',\n",
       "       'Hotel Clarks Amer, Malviya Nagar', 'Lal Kothi', 'Malviya Nagar',\n",
       "       'Tonk Road', 'Vaishali Nagar', 'Vidhyadhar Nagar',\n",
       "       'Acropolis Mall, Kasba ', 'Ballygunge', 'Camac Street Area',\n",
       "       'Elgin', 'Golpark', 'Kidderpore', 'Mani Square Mall, Kankurgachi',\n",
       "       'Park Street Area', 'Quest Mall, Ballygunge',\n",
       "       'Sector 5, Salt Lake', 'Silver Spring Arcade, Science City Area',\n",
       "       'Southern Avenue', 'Aminabad', 'Gomti Nagar', 'Hazratganj',\n",
       "       'Lalbagh', 'Renaissance Lucknow Hotel',\n",
       "       'Riverside Mall, Gomti Nagar', 'Royal Inn, Hazratganj',\n",
       "       'Sadar Bazaar', 'Azad Nagar', 'Borivali East', 'Borivali West',\n",
       "       'Fort', 'Hill Road, Bandra West', 'Juhu',\n",
       "       'Linking Road, Bandra West', 'Lower Parel', 'Majiwada, Thane West',\n",
       "       'Malad West', 'Powai', 'Ramee Guestline Hotel, Juhu',\n",
       "       'Versova, Andheri West', 'Vile Parle East', 'Anandpuri',\n",
       "       'Fraser Road Area', 'Golambar', 'Hotel Maurya, Lodipur',\n",
       "       'Khajpura', 'Lodipur', 'Maurya Lok, Fraser Road Area',\n",
       "       'Patliputra Colony', 'Sri Krishnapuri',\n",
       "       'Balewadi High Street, Balewadi', 'Baner', 'Deccan Gymkhana',\n",
       "       'Kalyani Nagar', 'Koregaon Park', 'Law College Road',\n",
       "       'Phoenix Market City, Viman Nagar', 'R Deccan Mall, JM Road',\n",
       "       'Ravet', 'Senapati Bapat Road', 'Spot 18 Mall, Pimple Saudagar',\n",
       "       'Viman Nagar', 'Wakad', 'Adajan Gam', 'Athwa', 'City Light',\n",
       "       'Golden Square, City Light',\n",
       "       'International Business Center, Piplod', 'Nanpura', 'Piplod',\n",
       "       'Vesu'], dtype=object)"
      ]
     },
     "execution_count": 7,
     "metadata": {},
     "output_type": "execute_result"
    }
   ],
   "source": [
    "# Showing Unique values in 'City' column\n",
    "swiggy_df['Locality'].unique()"
   ]
  },
  {
   "cell_type": "code",
   "execution_count": 8,
   "metadata": {},
   "outputs": [
    {
     "data": {
      "text/plain": [
       "array(['North Indian', 'Asian', 'Italian', 'European', 'Modern Indian',\n",
       "       'Bakery', 'Fast Food', 'Continental', 'American', 'Mexican',\n",
       "       'Japanese', 'Cafe', 'Mughlai', 'Desserts', 'South Indian',\n",
       "       'Biryani', 'Seafood', 'Goan', 'Chinese', 'Mediterranean',\n",
       "       'Hyderabadi', 'Rajasthani', 'Bengali', 'Healthy Food',\n",
       "       'Street Food', 'Charcoal Grill', 'Lebanese', 'Gujarati'],\n",
       "      dtype=object)"
      ]
     },
     "execution_count": 8,
     "metadata": {},
     "output_type": "execute_result"
    }
   ],
   "source": [
    "# Showing Unique values in 'City' column\n",
    "swiggy_df['Cuisines'].unique()"
   ]
  },
  {
   "cell_type": "code",
   "execution_count": 6,
   "metadata": {},
   "outputs": [
    {
     "data": {
      "text/plain": [
       "(258, 11)"
      ]
     },
     "execution_count": 6,
     "metadata": {},
     "output_type": "execute_result"
    }
   ],
   "source": [
    "# Showing the shape of the Dataset\n",
    "swiggy_df.shape"
   ]
  },
  {
   "cell_type": "markdown",
   "metadata": {},
   "source": [
    "*From above we can see that the data contains 258 rows and 11 columns*"
   ]
  },
  {
   "cell_type": "code",
   "execution_count": 10,
   "metadata": {},
   "outputs": [
    {
     "data": {
      "text/plain": [
       "Restaurant Name            object\n",
       "City                       object\n",
       "Locality                   object\n",
       "Cuisines                   object\n",
       "Average Cost for two        int64\n",
       "Has Table booking          object\n",
       "Has Online delivery        object\n",
       " Rating Stars out of 5    float64\n",
       "Rating in text             object\n",
       "Price range                 int64\n",
       "Votes                       int64\n",
       "dtype: object"
      ]
     },
     "execution_count": 10,
     "metadata": {},
     "output_type": "execute_result"
    }
   ],
   "source": [
    "# Checking Datatypes of all column\n",
    "swiggy_df.dtypes"
   ]
  },
  {
   "cell_type": "code",
   "execution_count": 13,
   "metadata": {},
   "outputs": [
    {
     "name": "stdout",
     "output_type": "stream",
     "text": [
      "<class 'pandas.core.frame.DataFrame'>\n",
      "RangeIndex: 258 entries, 0 to 257\n",
      "Data columns (total 11 columns):\n",
      " #   Column                  Non-Null Count  Dtype  \n",
      "---  ------                  --------------  -----  \n",
      " 0   Restaurant Name         258 non-null    object \n",
      " 1   City                    258 non-null    object \n",
      " 2   Locality                258 non-null    object \n",
      " 3   Cuisines                258 non-null    object \n",
      " 4   Average Cost for two    258 non-null    int64  \n",
      " 5   Has Table booking       258 non-null    object \n",
      " 6   Has Online delivery     258 non-null    object \n",
      " 7    Rating Stars out of 5  258 non-null    float64\n",
      " 8   Rating in text          258 non-null    object \n",
      " 9   Price range             258 non-null    int64  \n",
      " 10  Votes                   258 non-null    int64  \n",
      "dtypes: float64(1), int64(3), object(7)\n",
      "memory usage: 22.3+ KB\n"
     ]
    }
   ],
   "source": [
    "# Check ratings info\n",
    "swiggy_df.info()"
   ]
  },
  {
   "cell_type": "code",
   "execution_count": 14,
   "metadata": {},
   "outputs": [
    {
     "data": {
      "text/plain": [
       "0"
      ]
     },
     "execution_count": 14,
     "metadata": {},
     "output_type": "execute_result"
    }
   ],
   "source": [
    "# Check Duplicates\n",
    "swiggy_df.duplicated().sum()"
   ]
  },
  {
   "cell_type": "code",
   "execution_count": 11,
   "metadata": {},
   "outputs": [
    {
     "data": {
      "text/plain": [
       "Index(['Restaurant Name', 'City', 'Locality', 'Cuisines',\n",
       "       'Average Cost for two', 'Has Table booking', 'Has Online delivery',\n",
       "       ' Rating Stars out of 5', 'Rating in text', 'Price range', 'Votes'],\n",
       "      dtype='object')"
      ]
     },
     "execution_count": 11,
     "metadata": {},
     "output_type": "execute_result"
    }
   ],
   "source": [
    "swiggy_df.columns"
   ]
  },
  {
   "cell_type": "code",
   "execution_count": 15,
   "metadata": {},
   "outputs": [
    {
     "data": {
      "text/plain": [
       "Restaurant Name           0\n",
       "City                      0\n",
       "Locality                  0\n",
       "Cuisines                  0\n",
       "Average Cost for two      0\n",
       "Has Table booking         0\n",
       "Has Online delivery       0\n",
       " Rating Stars out of 5    0\n",
       "Rating in text            0\n",
       "Price range               0\n",
       "Votes                     0\n",
       "dtype: int64"
      ]
     },
     "execution_count": 15,
     "metadata": {},
     "output_type": "execute_result"
    }
   ],
   "source": [
    "# Check the presence of missing values\n",
    "swiggy_df.isnull().sum()"
   ]
  },
  {
   "cell_type": "markdown",
   "metadata": {},
   "source": [
    "There are no null values in the dataset"
   ]
  },
  {
   "cell_type": "markdown",
   "metadata": {},
   "source": [
    "- Now as there are multiple values in 'City', 'Locality', 'Cuisines', 'Rating in text' columns applying LabelEncoder() the 'City', 'Locality', 'Cuisines' columns.\n",
    "- 'Has Table booking', 'Has Online delivery' columns have two values 'yes' and 'no', so we can use get_dummies() , but in order to keep the processed data small we will be using  LabelEncoder() on 'Has Table booking', 'Has Online delivery' columns."
   ]
  },
  {
   "cell_type": "code",
   "execution_count": 12,
   "metadata": {},
   "outputs": [],
   "source": [
    "# Importing LabelEncoder from sklearn.preprocessing \n",
    "from sklearn.preprocessing import LabelEncoder\n",
    "# Initializing the LabelEncoder\n",
    "lb = LabelEncoder()"
   ]
  },
  {
   "cell_type": "code",
   "execution_count": 16,
   "metadata": {},
   "outputs": [],
   "source": [
    "# Applying LabelEncoder on multiple columnas at same time using for loop\n",
    "enc_list=['City', 'Locality', 'Cuisines','Rating in text', 'Has Table booking', 'Has Online delivery']\n",
    "for i in enc_list:\n",
    "    swiggy_df[i] = lb.fit_transform(swiggy_df[i])"
   ]
  },
  {
   "cell_type": "code",
   "execution_count": 17,
   "metadata": {},
   "outputs": [
    {
     "data": {
      "text/html": [
       "<div>\n",
       "<style scoped>\n",
       "    .dataframe tbody tr th:only-of-type {\n",
       "        vertical-align: middle;\n",
       "    }\n",
       "\n",
       "    .dataframe tbody tr th {\n",
       "        vertical-align: top;\n",
       "    }\n",
       "\n",
       "    .dataframe thead th {\n",
       "        text-align: right;\n",
       "    }\n",
       "</style>\n",
       "<table border=\"1\" class=\"dataframe\">\n",
       "  <thead>\n",
       "    <tr style=\"text-align: right;\">\n",
       "      <th></th>\n",
       "      <th>Restaurant Name</th>\n",
       "      <th>City</th>\n",
       "      <th>Locality</th>\n",
       "      <th>Cuisines</th>\n",
       "      <th>Average Cost for two</th>\n",
       "      <th>Has Table booking</th>\n",
       "      <th>Has Online delivery</th>\n",
       "      <th>Rating Stars out of 5</th>\n",
       "      <th>Rating in text</th>\n",
       "      <th>Price range</th>\n",
       "      <th>Votes</th>\n",
       "    </tr>\n",
       "  </thead>\n",
       "  <tbody>\n",
       "    <tr>\n",
       "      <th>0</th>\n",
       "      <td>Sultans of Spice</td>\n",
       "      <td>0</td>\n",
       "      <td>20</td>\n",
       "      <td>23</td>\n",
       "      <td>1300</td>\n",
       "      <td>1</td>\n",
       "      <td>1</td>\n",
       "      <td>4.1</td>\n",
       "      <td>3</td>\n",
       "      <td>3</td>\n",
       "      <td>314</td>\n",
       "    </tr>\n",
       "    <tr>\n",
       "      <th>1</th>\n",
       "      <td>The Fatty Bao - Asian Gastro Bar</td>\n",
       "      <td>0</td>\n",
       "      <td>56</td>\n",
       "      <td>1</td>\n",
       "      <td>2400</td>\n",
       "      <td>1</td>\n",
       "      <td>1</td>\n",
       "      <td>4.7</td>\n",
       "      <td>1</td>\n",
       "      <td>4</td>\n",
       "      <td>591</td>\n",
       "    </tr>\n",
       "    <tr>\n",
       "      <th>2</th>\n",
       "      <td>Toit</td>\n",
       "      <td>0</td>\n",
       "      <td>56</td>\n",
       "      <td>16</td>\n",
       "      <td>2000</td>\n",
       "      <td>0</td>\n",
       "      <td>0</td>\n",
       "      <td>4.8</td>\n",
       "      <td>1</td>\n",
       "      <td>4</td>\n",
       "      <td>270</td>\n",
       "    </tr>\n",
       "    <tr>\n",
       "      <th>3</th>\n",
       "      <td>Three Dots &amp; A Dash</td>\n",
       "      <td>0</td>\n",
       "      <td>56</td>\n",
       "      <td>10</td>\n",
       "      <td>1300</td>\n",
       "      <td>1</td>\n",
       "      <td>0</td>\n",
       "      <td>3.9</td>\n",
       "      <td>2</td>\n",
       "      <td>3</td>\n",
       "      <td>365</td>\n",
       "    </tr>\n",
       "    <tr>\n",
       "      <th>4</th>\n",
       "      <td>Bombay Brasserie</td>\n",
       "      <td>0</td>\n",
       "      <td>56</td>\n",
       "      <td>21</td>\n",
       "      <td>1500</td>\n",
       "      <td>0</td>\n",
       "      <td>1</td>\n",
       "      <td>4.2</td>\n",
       "      <td>3</td>\n",
       "      <td>3</td>\n",
       "      <td>229</td>\n",
       "    </tr>\n",
       "  </tbody>\n",
       "</table>\n",
       "</div>"
      ],
      "text/plain": [
       "                    Restaurant Name  City  Locality  Cuisines  \\\n",
       "0                  Sultans of Spice     0        20        23   \n",
       "1  The Fatty Bao - Asian Gastro Bar     0        56         1   \n",
       "2                              Toit     0        56        16   \n",
       "3               Three Dots & A Dash     0        56        10   \n",
       "4                  Bombay Brasserie     0        56        21   \n",
       "\n",
       "   Average Cost for two  Has Table booking  Has Online delivery  \\\n",
       "0                  1300                  1                    1   \n",
       "1                  2400                  1                    1   \n",
       "2                  2000                  0                    0   \n",
       "3                  1300                  1                    0   \n",
       "4                  1500                  0                    1   \n",
       "\n",
       "    Rating Stars out of 5  Rating in text  Price range  Votes  \n",
       "0                     4.1               3            3    314  \n",
       "1                     4.7               1            4    591  \n",
       "2                     4.8               1            4    270  \n",
       "3                     3.9               2            3    365  \n",
       "4                     4.2               3            3    229  "
      ]
     },
     "execution_count": 17,
     "metadata": {},
     "output_type": "execute_result"
    }
   ],
   "source": [
    "# Showing top 5 Rows of the pre- processed dataset\n",
    "swiggy_df.head()"
   ]
  },
  {
   "cell_type": "markdown",
   "metadata": {},
   "source": [
    "## Saving the Pre-Processed and cleaned data to a csv file"
   ]
  },
  {
   "cell_type": "code",
   "execution_count": 18,
   "metadata": {},
   "outputs": [],
   "source": [
    "# saving the dataframe\n",
    "swiggy_df.to_csv('Swiggy_Pre_Processed_dataset.csv',index=False)"
   ]
  },
  {
   "cell_type": "markdown",
   "metadata": {},
   "source": [
    "Now we can use the saved csv file to perform further analysis and applying various machine learning models based on data and desired output"
   ]
  }
 ],
 "metadata": {
  "kernelspec": {
   "display_name": "Python 3.8.10 64-bit (windows store)",
   "language": "python",
   "name": "python3"
  },
  "language_info": {
   "codemirror_mode": {
    "name": "ipython",
    "version": 3
   },
   "file_extension": ".py",
   "mimetype": "text/x-python",
   "name": "python",
   "nbconvert_exporter": "python",
   "pygments_lexer": "ipython3",
   "version": "3.8.10"
  },
  "orig_nbformat": 4,
  "vscode": {
   "interpreter": {
    "hash": "d8f38a65f95ae979fba470ab93511c61f11d2b36188dbafc11a6a501c4e93194"
   }
  }
 },
 "nbformat": 4,
 "nbformat_minor": 2
}
