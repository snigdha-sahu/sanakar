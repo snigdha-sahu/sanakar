{
 "cells": [
  {
   "cell_type": "markdown",
   "id": "98f4af63",
   "metadata": {},
   "source": [
    "# PASSWORD GENERATOR\n"
   ]
  },
  {
   "cell_type": "code",
   "execution_count": 1,
   "id": "53891659",
   "metadata": {},
   "outputs": [
    {
     "name": "stdout",
     "output_type": "stream",
     "text": [
      "Welcome to our Random Password Generator\n",
      "Enter the length of password: 8\n",
      "U-IFn).?\n"
     ]
    }
   ],
   "source": [
    "import random\n",
    "import string\n",
    "print(\"Welcome to our Random Password Generator\")\n",
    "length=int(input(\"Enter the length of password: \"))\n",
    "lowerc=string.ascii_lowercase\n",
    "upperc=string.ascii_uppercase\n",
    "digit=string.digits\n",
    "symbols=string.punctuation\n",
    "merge=lowerc+upperc+digit+symbols\n",
    "a=random.sample(merge,length)\n",
    "password=\"\".join(a)\n",
    "print(password)"
   ]
  }
 ],
 "metadata": {
  "kernelspec": {
   "display_name": "Python 3 (ipykernel)",
   "language": "python",
   "name": "python3"
  },
  "language_info": {
   "codemirror_mode": {
    "name": "ipython",
    "version": 3
   },
   "file_extension": ".py",
   "mimetype": "text/x-python",
   "name": "python",
   "nbconvert_exporter": "python",
   "pygments_lexer": "ipython3",
   "version": "3.10.9"
  }
 },
 "nbformat": 4,
 "nbformat_minor": 5
}
